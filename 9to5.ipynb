{
    "metadata": {
        "kernelspec": {
            "name": "SQL",
            "display_name": "SQL",
            "language": "sql"
        },
        "language_info": {
            "name": "sql",
            "version": ""
        },
        "extensions": {
            "azuredatastudio": {
                "version": 1,
                "views": []
            }
        }
    },
    "nbformat_minor": 2,
    "nbformat": 4,
    "cells": [
        {
            "cell_type": "markdown",
            "source": [
                "# <span style=\"font-size: 20pt; font-family: Montserrat, sans-serif; color: rgb(92, 148, 206); background-color: rgb(255, 255, 255); font-weight: 700; font-variant-east-asian: normal; vertical-align: baseline; white-space: pre-wrap;\">Graded Assignment 3: 9 to 5</span>\n",
                "\n",
                "<span style=\"font-size: 10pt; font-family: &quot;Times New Roman&quot;; color: rgb(102, 102, 102); background-color: rgb(255, 255, 255); font-variant-east-asian: normal; vertical-align: baseline; white-space: pre-wrap;\">Time to show off your SQL skills! For each question, copy the SQL query you used and make note of the answer.</span>\n",
                "\n",
                "## <span style=\"font-size: 12pt; font-family: Montserrat, sans-serif; color: rgb(53, 74, 95); background-color: rgb(255, 255, 255); font-weight: 700; font-variant-east-asian: normal; vertical-align: baseline; white-space: pre-wrap;\">The Dataset</span>\n",
                "\n",
                "<span style=\"font-size: 10pt; font-family: &quot;Times New Roman&quot;; color: rgb(102, 102, 102); background-color: rgb(255, 255, 255); font-variant-east-asian: normal; vertical-align: baseline; white-space: pre-wrap;\">For this assignment, you will be using the Bureau of Labor Statistics (BLS) Current Employment Survey (CES) results which can be found on</span> [<span style=\"font-size: 10pt; font-family: &quot;Times New Roman&quot;; color: rgb(17, 85, 204); background-color: rgb(255, 255, 255); font-variant-east-asian: normal; text-decoration-line: underline; vertical-align: baseline; white-space: pre-wrap;\">Kaggle</span>](https://www.kaggle.com/bls/employment)<span style=\"font-size: 10pt; font-family: &quot;Times New Roman&quot;; color: rgb(102, 102, 102); background-color: rgb(255, 255, 255); font-variant-east-asian: normal; vertical-align: baseline; white-space: pre-wrap;\">.</span>\n",
                "\n",
                "## <span style=\"font-size: 12pt; font-family: Montserrat, sans-serif; color: rgb(53, 74, 95); background-color: rgb(255, 255, 255); font-weight: 700; font-variant-east-asian: normal; vertical-align: baseline; white-space: pre-wrap;\">Business Issue</span>\n",
                "\n",
                "<span style=\"font-size: 10pt; font-family: &quot;Times New Roman&quot;; color: rgb(102, 102, 102); background-color: rgb(255, 255, 255); font-variant-east-asian: normal; vertical-align: baseline; white-space: pre-wrap;\">You are working for the Bureau of Labor Statistics with the United States government and have been approached by your boss with an important meeting request. You have been asked by your supervisor to meet with Dolly Parton whose nonprofit is looking to shed light on the state of employment in the United States. As part of the 9 to 5 project, their research is focused on production and nonsupervisory employees and how those employees fare compared to all employees in the United States. While the data the BLS collects from the CES is publicly available, Dolly Parton and her colleagues need your assistance navigating the thousands of rows in each table in LaborStatisticsDB.</span>\n",
                "\n",
                "## <span style=\"font-size: 12pt; font-family: Montserrat, sans-serif; color: rgb(53, 74, 95); background-color: rgb(255, 255, 255); font-weight: 700; font-variant-east-asian: normal; vertical-align: baseline; white-space: pre-wrap;\">About the Dataset</span>\n",
                "\n",
                "<span style=\"font-size: 10pt; font-family: &quot;Times New Roman&quot;; color: rgb(102, 102, 102); background-color: rgb(255, 255, 255); font-variant-east-asian: normal; vertical-align: baseline; white-space: pre-wrap;\">This dataset comes directly from the Bureau of Labor Statistics’ Current Employment Survey (CES). Here are some things you need to know:</span>\n",
                "\n",
                "1. <span style=\"font-size: 10pt; background-color: rgb(255, 255, 255); font-variant-east-asian: normal; vertical-align: baseline; white-space: pre-wrap;\">The industry table contains an NAICS code. This is different from the industry code. NAICS stands for North American Industry Classification System.</span>\n",
                "2. <span style=\"font-size: 10pt; background-color: rgb(255, 255, 255); font-variant-east-asian: normal; vertical-align: baseline; white-space: pre-wrap;\">Series ID is composed of multiple different codes. CES stands for Current Employment Survey, the name of the survey which collected the data. The industry code as specified by the BLS and the data type code as specified in the datatype table.</span>\n",
                "\n",
                "## <span style=\"font-size: 12pt; font-family: Montserrat, sans-serif; color: rgb(53, 74, 95); background-color: rgb(255, 255, 255); font-weight: 700; font-variant-east-asian: normal; vertical-align: baseline; white-space: pre-wrap;\">Set Up</span>\n",
                "\n",
                "<span style=\"font-size: 10pt; font-family: &quot;Times New Roman&quot;; color: rgb(102, 102, 102); background-color: rgb(255, 255, 255); font-variant-east-asian: normal; vertical-align: baseline; white-space: pre-wrap;\">To connect to the database, use the same connection info used during the SQL lessons.&nbsp;</span> \n",
                "\n",
                "<span style=\"font-size: 10pt; font-family: &quot;Times New Roman&quot;; color: rgb(102, 102, 102); background-color: rgb(255, 255, 255); font-variant-east-asian: normal; vertical-align: baseline; white-space: pre-wrap;\">For the assignment, we will be using the LaborStatisticsDB database.</span>\n",
                "\n",
                "## <span style=\"font-size: 12pt; font-family: Montserrat, sans-serif; color: rgb(53, 74, 95); background-color: rgb(255, 255, 255); font-weight: 700; font-variant-east-asian: normal; vertical-align: baseline; white-space: pre-wrap;\">Database Exploration</span>\n",
                "\n",
                "<span style=\"font-size: 10pt; font-family: &quot;Times New Roman&quot;; color: rgb(102, 102, 102); background-color: rgb(255, 255, 255); font-variant-east-asian: normal; vertical-align: baseline; white-space: pre-wrap;\">To start with, let’s get to know the database further.</span>\n",
                "\n",
                "1. <span style=\"background-color: rgb(255, 255, 255); color: rgb(102, 102, 102); font-family: &quot;Times New Roman&quot;; font-size: 10pt; white-space: pre-wrap;\">Use this space to make note of each table in the database, the columns within each table, each column’s data type, and how the tables are connected. You can write this down or draw a diagram. Whatever method helps you get an understanding of what is going on with LaborStatisticsDB.</span>\n",
                "\n",
                "<span style=\"font-size: 13.3333px; white-space: pre-wrap;\"><br></span>"
            ],
            "metadata": {
                "azdata_cell_guid": "28ea70c5-f0be-4197-b6c0-ade22886a708"
            },
            "attachments": {}
        },
        {
            "cell_type": "markdown",
            "source": [
                "![diagram](schema_diagram.png)"
            ],
            "metadata": {
                "azdata_cell_guid": "08d7e221-f221-461e-a1f9-4246ba72919e"
            }
        },
        {
            "cell_type": "markdown",
            "source": [
                "2. <span style=\"background-color: rgb(255, 255, 255); color: rgb(102, 102, 102); font-family: Arvo, serif; font-size: 10pt; white-space: pre-wrap;\">What is the datatype for women employees?</span>"
            ],
            "metadata": {
                "azdata_cell_guid": "6faefbdf-33bd-47ed-80bb-bdb3e1b9761a"
            },
            "attachments": {}
        },
        {
            "cell_type": "code",
            "source": [
                "SELECT data_type_code \n",
                "FROM LaborStatisticsDB.dbo.datatype \n",
                "WHERE data_type_text = 'women employees';\n",
                "\n",
                "USE LaborStatisticsDB;\n",
                "SELECT DATA_TYPE \n",
                "FROM INFORMATION_SCHEMA.COLUMNS \n",
                "WHERE TABLE_NAME = 'datatype'\n",
                "AND COLUMN_NAME = 'data_type_text';\n",
                "\n",
                "-- Data_Type_Code is 10 for Women Employees\n",
                "-- Data type for that column is NVARCHAR"
            ],
            "metadata": {
                "azdata_cell_guid": "02fa547c-0bb7-4a40-81c2-f5c05154df04"
            },
            "outputs": [
                {
                    "output_type": "display_data",
                    "data": {
                        "text/html": "(1 row affected)"
                    },
                    "metadata": {}
                },
                {
                    "output_type": "display_data",
                    "data": {
                        "text/html": "(1 row affected)"
                    },
                    "metadata": {}
                },
                {
                    "output_type": "display_data",
                    "data": {
                        "text/html": "Total execution time: 00:00:00.181"
                    },
                    "metadata": {}
                },
                {
                    "output_type": "execute_result",
                    "metadata": {},
                    "execution_count": 1,
                    "data": {
                        "application/vnd.dataresource+json": {
                            "schema": {
                                "fields": [
                                    {
                                        "name": "data_type_code"
                                    }
                                ]
                            },
                            "data": [
                                {
                                    "0": "10"
                                }
                            ]
                        },
                        "text/html": [
                            "<table>",
                            "<tr><th>data_type_code</th></tr>",
                            "<tr><td>10</td></tr>",
                            "</table>"
                        ]
                    }
                },
                {
                    "output_type": "execute_result",
                    "metadata": {},
                    "execution_count": 1,
                    "data": {
                        "application/vnd.dataresource+json": {
                            "schema": {
                                "fields": [
                                    {
                                        "name": "DATA_TYPE"
                                    }
                                ]
                            },
                            "data": [
                                {
                                    "0": "nvarchar"
                                }
                            ]
                        },
                        "text/html": [
                            "<table>",
                            "<tr><th>DATA_TYPE</th></tr>",
                            "<tr><td>nvarchar</td></tr>",
                            "</table>"
                        ]
                    }
                }
            ],
            "execution_count": 1
        },
        {
            "cell_type": "markdown",
            "source": [
                "3. <span style=\"background-color: rgb(255, 255, 255); font-size: 10pt; white-space: pre-wrap; color: rgb(102, 102, 102); font-family: Arvo, serif;\">What is the series id for&nbsp; women employees in the commercial banking industry in the financial activities supersector?</span>"
            ],
            "metadata": {
                "azdata_cell_guid": "325f85cc-9545-47b3-b975-3aab6278e4ea"
            },
            "attachments": {}
        },
        {
            "cell_type": "code",
            "source": [
                "SELECT *\n",
                "FROM LaborStatisticsDB.dbo.series \n",
                "WHERE data_type_code = (SELECT data_type_code FROM datatype WHERE data_type_text = 'women employees')\n",
                "AND industry_code = (SELECT industry_code FROM industry WHERE industry_name = 'commercial banking')\n",
                "AND supersector_code = (SELECT supersector_code FROM supersector WHERE supersector_name = 'financial activities')\n",
                "\n",
                "-- CES5552211010 for Seasonally Adjusted \n",
                "-- CEU5552211010 for Not Seasonally Adjusted"
            ],
            "metadata": {
                "azdata_cell_guid": "6e49e7e4-520b-4fd2-9752-f76874efeee7",
                "tags": []
            },
            "outputs": [
                {
                    "output_type": "display_data",
                    "data": {
                        "text/html": "(2 rows affected)"
                    },
                    "metadata": {}
                },
                {
                    "output_type": "display_data",
                    "data": {
                        "text/html": "Total execution time: 00:00:00.152"
                    },
                    "metadata": {}
                },
                {
                    "output_type": "execute_result",
                    "metadata": {},
                    "execution_count": 2,
                    "data": {
                        "application/vnd.dataresource+json": {
                            "schema": {
                                "fields": [
                                    {
                                        "name": "series_id"
                                    },
                                    {
                                        "name": "supersector_code"
                                    },
                                    {
                                        "name": "industry_code"
                                    },
                                    {
                                        "name": "data_type_code"
                                    },
                                    {
                                        "name": "seasonal"
                                    },
                                    {
                                        "name": "series_title"
                                    }
                                ]
                            },
                            "data": [
                                {
                                    "0": "CES5552211010",
                                    "1": "55",
                                    "2": "55522110",
                                    "3": "10",
                                    "4": "S",
                                    "5": "Women employees"
                                },
                                {
                                    "0": "CEU5552211010",
                                    "1": "55",
                                    "2": "55522110",
                                    "3": "10",
                                    "4": "U",
                                    "5": "Women employees"
                                }
                            ]
                        },
                        "text/html": [
                            "<table>",
                            "<tr><th>series_id</th><th>supersector_code</th><th>industry_code</th><th>data_type_code</th><th>seasonal</th><th>series_title</th></tr>",
                            "<tr><td>CES5552211010</td><td>55</td><td>55522110</td><td>10</td><td>S</td><td>Women employees</td></tr>",
                            "<tr><td>CEU5552211010</td><td>55</td><td>55522110</td><td>10</td><td>U</td><td>Women employees</td></tr>",
                            "</table>"
                        ]
                    }
                }
            ],
            "execution_count": 2
        },
        {
            "cell_type": "markdown",
            "source": [
                "## <span style=\"font-size: 12pt; font-family: Montserrat, sans-serif; color: rgb(53, 74, 95); background-color: rgb(255, 255, 255); font-weight: 700; font-variant-numeric: normal; font-variant-east-asian: normal; vertical-align: baseline; white-space: pre-wrap;\">Join in on the Fun</span>\n",
                "\n",
                "<span style=\"font-size: 10pt; font-family: Arvo, serif; color: rgb(102, 102, 102); background-color: rgb(255, 255, 255); font-variant-numeric: normal; font-variant-east-asian: normal; vertical-align: baseline; white-space: pre-wrap;\">Time to start joining! You can choose the type of join you use, just make sure to make a&nbsp; note!</span>\n",
                "\n",
                "1. <span style=\"background-color: rgb(255, 255, 255); font-size: 10pt; white-space: pre-wrap; color: rgb(102, 102, 102); font-family: Arvo, serif;\">Join&nbsp; annual_2016 with series on series_id. We only want the data in the annual_2016 table to be included in the result.</span>"
            ],
            "metadata": {
                "azdata_cell_guid": "ec1dfc63-ad41-4349-8c26-1d326ace8c6c"
            },
            "attachments": {}
        },
        {
            "cell_type": "code",
            "source": [
                "-- ***\n",
                "-- If my queries return a lot of rows, I will use 'SELECT TOP(5)' to make it easy to scroll through this document.\n",
                "-- ***"
            ],
            "metadata": {
                "azdata_cell_guid": "e37de842-815e-4f42-8ade-14992c21a3f9"
            },
            "outputs": [],
            "execution_count": null
        },
        {
            "cell_type": "code",
            "source": [
                "SELECT TOP 5 * \n",
                "FROM LaborStatisticsDB.dbo.annual_2016 \n",
                "LEFT JOIN LaborStatisticsDB.dbo.series \n",
                "ON annual_2016.series_id = series.series_id\n",
                "\n",
                "-- In this case, LEFT join will keep all the data from annual_2016"
            ],
            "metadata": {
                "azdata_cell_guid": "cf90f0b4-c482-4fbb-ac17-d2244881caab",
                "tags": []
            },
            "outputs": [
                {
                    "output_type": "display_data",
                    "data": {
                        "text/html": "(5 rows affected)"
                    },
                    "metadata": {}
                },
                {
                    "output_type": "display_data",
                    "data": {
                        "text/html": "Total execution time: 00:00:00.483"
                    },
                    "metadata": {}
                },
                {
                    "output_type": "execute_result",
                    "metadata": {},
                    "execution_count": 3,
                    "data": {
                        "application/vnd.dataresource+json": {
                            "schema": {
                                "fields": [
                                    {
                                        "name": "id"
                                    },
                                    {
                                        "name": "series_id"
                                    },
                                    {
                                        "name": "year"
                                    },
                                    {
                                        "name": "period"
                                    },
                                    {
                                        "name": "value"
                                    },
                                    {
                                        "name": "footnote_codes"
                                    },
                                    {
                                        "name": "original_file"
                                    },
                                    {
                                        "name": "series_id"
                                    },
                                    {
                                        "name": "supersector_code"
                                    },
                                    {
                                        "name": "industry_code"
                                    },
                                    {
                                        "name": "data_type_code"
                                    },
                                    {
                                        "name": "seasonal"
                                    },
                                    {
                                        "name": "series_title"
                                    }
                                ]
                            },
                            "data": [
                                {
                                    "0": "0",
                                    "1": "CEU5500000007",
                                    "2": "2016",
                                    "3": "M13",
                                    "4": "36.9",
                                    "5": "NULL",
                                    "6": "ce.data.55c.FinancialActivities.ProductionEmployeeHoursAndEarnings.csv",
                                    "7": "CEU5500000007",
                                    "8": "55",
                                    "9": "55000000",
                                    "10": "7",
                                    "11": "U",
                                    "12": "Average weekly hours of production and nonsupervisory employees"
                                },
                                {
                                    "0": "1",
                                    "1": "CEU5500000008",
                                    "2": "2016",
                                    "3": "M13",
                                    "4": "26.11",
                                    "5": "NULL",
                                    "6": "ce.data.55c.FinancialActivities.ProductionEmployeeHoursAndEarnings.csv",
                                    "7": "CEU5500000008",
                                    "8": "55",
                                    "9": "55000000",
                                    "10": "8",
                                    "11": "U",
                                    "12": "Average hourly earnings of production and nonsupervisory employees"
                                },
                                {
                                    "0": "2",
                                    "1": "CEU5500000030",
                                    "2": "2016",
                                    "3": "M13",
                                    "4": "962.73",
                                    "5": "NULL",
                                    "6": "ce.data.55c.FinancialActivities.ProductionEmployeeHoursAndEarnings.csv",
                                    "7": "CEU5500000030",
                                    "8": "55",
                                    "9": "55000000",
                                    "10": "30",
                                    "11": "U",
                                    "12": "Average weekly earnings of production and nonsupervisory employees"
                                },
                                {
                                    "0": "3",
                                    "1": "CEU5500000031",
                                    "2": "2016",
                                    "3": "M13",
                                    "4": "411.29",
                                    "5": "NULL",
                                    "6": "ce.data.55c.FinancialActivities.ProductionEmployeeHoursAndEarnings.csv",
                                    "7": "CEU5500000031",
                                    "8": "55",
                                    "9": "55000000",
                                    "10": "31",
                                    "11": "U",
                                    "12": "Average weekly earnings of production and nonsupervisory employees"
                                },
                                {
                                    "0": "4",
                                    "1": "CEU5500000032",
                                    "2": "2016",
                                    "3": "M13",
                                    "4": "11.15",
                                    "5": "NULL",
                                    "6": "ce.data.55c.FinancialActivities.ProductionEmployeeHoursAndEarnings.csv",
                                    "7": "CEU5500000032",
                                    "8": "55",
                                    "9": "55000000",
                                    "10": "32",
                                    "11": "U",
                                    "12": "Average hourly earnings of production and nonsupervisory employees"
                                }
                            ]
                        },
                        "text/html": [
                            "<table>",
                            "<tr><th>id</th><th>series_id</th><th>year</th><th>period</th><th>value</th><th>footnote_codes</th><th>original_file</th><th>series_id</th><th>supersector_code</th><th>industry_code</th><th>data_type_code</th><th>seasonal</th><th>series_title</th></tr>",
                            "<tr><td>0</td><td>CEU5500000007</td><td>2016</td><td>M13</td><td>36.9</td><td>NULL</td><td>ce.data.55c.FinancialActivities.ProductionEmployeeHoursAndEarnings.csv</td><td>CEU5500000007</td><td>55</td><td>55000000</td><td>7</td><td>U</td><td>Average weekly hours of production and nonsupervisory employees</td></tr>",
                            "<tr><td>1</td><td>CEU5500000008</td><td>2016</td><td>M13</td><td>26.11</td><td>NULL</td><td>ce.data.55c.FinancialActivities.ProductionEmployeeHoursAndEarnings.csv</td><td>CEU5500000008</td><td>55</td><td>55000000</td><td>8</td><td>U</td><td>Average hourly earnings of production and nonsupervisory employees</td></tr>",
                            "<tr><td>2</td><td>CEU5500000030</td><td>2016</td><td>M13</td><td>962.73</td><td>NULL</td><td>ce.data.55c.FinancialActivities.ProductionEmployeeHoursAndEarnings.csv</td><td>CEU5500000030</td><td>55</td><td>55000000</td><td>30</td><td>U</td><td>Average weekly earnings of production and nonsupervisory employees</td></tr>",
                            "<tr><td>3</td><td>CEU5500000031</td><td>2016</td><td>M13</td><td>411.29</td><td>NULL</td><td>ce.data.55c.FinancialActivities.ProductionEmployeeHoursAndEarnings.csv</td><td>CEU5500000031</td><td>55</td><td>55000000</td><td>31</td><td>U</td><td>Average weekly earnings of production and nonsupervisory employees</td></tr>",
                            "<tr><td>4</td><td>CEU5500000032</td><td>2016</td><td>M13</td><td>11.15</td><td>NULL</td><td>ce.data.55c.FinancialActivities.ProductionEmployeeHoursAndEarnings.csv</td><td>CEU5500000032</td><td>55</td><td>55000000</td><td>32</td><td>U</td><td>Average hourly earnings of production and nonsupervisory employees</td></tr>",
                            "</table>"
                        ]
                    }
                }
            ],
            "execution_count": 3
        },
        {
            "cell_type": "markdown",
            "source": [
                "2. <span style=\"background-color: rgb(255, 255, 255); font-size: 10pt; white-space: pre-wrap; color: rgb(102, 102, 102); font-family: Arvo, serif;\">Join series and datatype on data_type_code</span>"
            ],
            "metadata": {
                "azdata_cell_guid": "710b59ae-224b-4f9d-b1a4-4a6b89048bbb"
            },
            "attachments": {}
        },
        {
            "cell_type": "code",
            "source": [
                "SELECT TOP 5 * \n",
                "FROM LaborStatisticsDB.dbo.series \n",
                "JOIN LaborStatisticsDB.dbo.datatype \n",
                "ON series.data_type_code = datatype.data_type_code\n",
                "\n",
                "-- INNER join will combine rows that have matching values in both tables"
            ],
            "metadata": {
                "azdata_cell_guid": "fca61371-c9b5-4823-a4b4-34c1279ece3e",
                "tags": []
            },
            "outputs": [
                {
                    "output_type": "display_data",
                    "data": {
                        "text/html": "(5 rows affected)"
                    },
                    "metadata": {}
                },
                {
                    "output_type": "display_data",
                    "data": {
                        "text/html": "Total execution time: 00:00:00.097"
                    },
                    "metadata": {}
                },
                {
                    "output_type": "execute_result",
                    "metadata": {},
                    "execution_count": 4,
                    "data": {
                        "application/vnd.dataresource+json": {
                            "schema": {
                                "fields": [
                                    {
                                        "name": "series_id"
                                    },
                                    {
                                        "name": "supersector_code"
                                    },
                                    {
                                        "name": "industry_code"
                                    },
                                    {
                                        "name": "data_type_code"
                                    },
                                    {
                                        "name": "seasonal"
                                    },
                                    {
                                        "name": "series_title"
                                    },
                                    {
                                        "name": "data_type_code"
                                    },
                                    {
                                        "name": "data_type_text"
                                    }
                                ]
                            },
                            "data": [
                                {
                                    "0": "CES0000000001",
                                    "1": "0",
                                    "2": "00000000",
                                    "3": "1",
                                    "4": "S",
                                    "5": "All employees",
                                    "6": "1",
                                    "7": "ALL EMPLOYEES"
                                },
                                {
                                    "0": "CES0000000010",
                                    "1": "0",
                                    "2": "00000000",
                                    "3": "10",
                                    "4": "S",
                                    "5": "Women employees",
                                    "6": "10",
                                    "7": "WOMEN EMPLOYEES"
                                },
                                {
                                    "0": "CES0000000025",
                                    "1": "0",
                                    "2": "00000000",
                                    "3": "25",
                                    "4": "S",
                                    "5": "All employees",
                                    "6": "25",
                                    "7": "ALL EMPLOYEES"
                                },
                                {
                                    "0": "CES0000000026",
                                    "1": "0",
                                    "2": "00000000",
                                    "3": "26",
                                    "4": "S",
                                    "5": "All employees",
                                    "6": "26",
                                    "7": "ALL EMPLOYEES"
                                },
                                {
                                    "0": "CES0500000001",
                                    "1": "5",
                                    "2": "05000000",
                                    "3": "1",
                                    "4": "S",
                                    "5": "All employees",
                                    "6": "1",
                                    "7": "ALL EMPLOYEES"
                                }
                            ]
                        },
                        "text/html": [
                            "<table>",
                            "<tr><th>series_id</th><th>supersector_code</th><th>industry_code</th><th>data_type_code</th><th>seasonal</th><th>series_title</th><th>data_type_code</th><th>data_type_text</th></tr>",
                            "<tr><td>CES0000000001</td><td>0</td><td>00000000</td><td>1</td><td>S</td><td>All employees</td><td>1</td><td>ALL EMPLOYEES</td></tr>",
                            "<tr><td>CES0000000010</td><td>0</td><td>00000000</td><td>10</td><td>S</td><td>Women employees</td><td>10</td><td>WOMEN EMPLOYEES</td></tr>",
                            "<tr><td>CES0000000025</td><td>0</td><td>00000000</td><td>25</td><td>S</td><td>All employees</td><td>25</td><td>ALL EMPLOYEES</td></tr>",
                            "<tr><td>CES0000000026</td><td>0</td><td>00000000</td><td>26</td><td>S</td><td>All employees</td><td>26</td><td>ALL EMPLOYEES</td></tr>",
                            "<tr><td>CES0500000001</td><td>5</td><td>05000000</td><td>1</td><td>S</td><td>All employees</td><td>1</td><td>ALL EMPLOYEES</td></tr>",
                            "</table>"
                        ]
                    }
                }
            ],
            "execution_count": 4
        },
        {
            "cell_type": "markdown",
            "source": [
                "3. <span style=\"background-color: rgb(255, 255, 255); font-size: 10pt; white-space: pre-wrap; color: rgb(102, 102, 102); font-family: Arvo, serif;\">Join series and industry on industry_code</span>"
            ],
            "metadata": {
                "azdata_cell_guid": "78ac8ba4-2a6a-426f-af30-6b56d9d09054"
            },
            "attachments": {}
        },
        {
            "cell_type": "code",
            "source": [
                "SELECT TOP 5 * \n",
                "FROM LaborStatisticsDB.dbo.series \n",
                "JOIN LaborStatisticsDB.dbo.industry \n",
                "ON series.industry_code = industry.industry_code\n",
                "\n",
                "-- INNER join will combine rows that have matching values in both tables"
            ],
            "metadata": {
                "azdata_cell_guid": "ac022766-e280-4d95-8362-1f2b18773662"
            },
            "outputs": [
                {
                    "output_type": "display_data",
                    "data": {
                        "text/html": "(5 rows affected)"
                    },
                    "metadata": {}
                },
                {
                    "output_type": "display_data",
                    "data": {
                        "text/html": "Total execution time: 00:00:00.110"
                    },
                    "metadata": {}
                },
                {
                    "output_type": "execute_result",
                    "metadata": {},
                    "execution_count": 5,
                    "data": {
                        "application/vnd.dataresource+json": {
                            "schema": {
                                "fields": [
                                    {
                                        "name": "series_id"
                                    },
                                    {
                                        "name": "supersector_code"
                                    },
                                    {
                                        "name": "industry_code"
                                    },
                                    {
                                        "name": "data_type_code"
                                    },
                                    {
                                        "name": "seasonal"
                                    },
                                    {
                                        "name": "series_title"
                                    },
                                    {
                                        "name": "id"
                                    },
                                    {
                                        "name": "industry_code"
                                    },
                                    {
                                        "name": "naics_code"
                                    },
                                    {
                                        "name": "publishing_status"
                                    },
                                    {
                                        "name": "industry_name"
                                    },
                                    {
                                        "name": "display_level"
                                    },
                                    {
                                        "name": "selectable"
                                    },
                                    {
                                        "name": "sort_sequence"
                                    }
                                ]
                            },
                            "data": [
                                {
                                    "0": "CES0000000001",
                                    "1": "0",
                                    "2": "00000000",
                                    "3": "1",
                                    "4": "S",
                                    "5": "All employees",
                                    "6": "0",
                                    "7": "0",
                                    "8": "-",
                                    "9": "B",
                                    "10": "Total nonfarm",
                                    "11": "0",
                                    "12": "T",
                                    "13": "1"
                                },
                                {
                                    "0": "CES0000000010",
                                    "1": "0",
                                    "2": "00000000",
                                    "3": "10",
                                    "4": "S",
                                    "5": "Women employees",
                                    "6": "0",
                                    "7": "0",
                                    "8": "-",
                                    "9": "B",
                                    "10": "Total nonfarm",
                                    "11": "0",
                                    "12": "T",
                                    "13": "1"
                                },
                                {
                                    "0": "CES0000000025",
                                    "1": "0",
                                    "2": "00000000",
                                    "3": "25",
                                    "4": "S",
                                    "5": "All employees",
                                    "6": "0",
                                    "7": "0",
                                    "8": "-",
                                    "9": "B",
                                    "10": "Total nonfarm",
                                    "11": "0",
                                    "12": "T",
                                    "13": "1"
                                },
                                {
                                    "0": "CES0000000026",
                                    "1": "0",
                                    "2": "00000000",
                                    "3": "26",
                                    "4": "S",
                                    "5": "All employees",
                                    "6": "0",
                                    "7": "0",
                                    "8": "-",
                                    "9": "B",
                                    "10": "Total nonfarm",
                                    "11": "0",
                                    "12": "T",
                                    "13": "1"
                                },
                                {
                                    "0": "CES0500000001",
                                    "1": "5",
                                    "2": "05000000",
                                    "3": "1",
                                    "4": "S",
                                    "5": "All employees",
                                    "6": "1",
                                    "7": "5000000",
                                    "8": "-",
                                    "9": "A",
                                    "10": "Total private",
                                    "11": "1",
                                    "12": "T",
                                    "13": "2"
                                }
                            ]
                        },
                        "text/html": [
                            "<table>",
                            "<tr><th>series_id</th><th>supersector_code</th><th>industry_code</th><th>data_type_code</th><th>seasonal</th><th>series_title</th><th>id</th><th>industry_code</th><th>naics_code</th><th>publishing_status</th><th>industry_name</th><th>display_level</th><th>selectable</th><th>sort_sequence</th></tr>",
                            "<tr><td>CES0000000001</td><td>0</td><td>00000000</td><td>1</td><td>S</td><td>All employees</td><td>0</td><td>0</td><td>-</td><td>B</td><td>Total nonfarm</td><td>0</td><td>T</td><td>1</td></tr>",
                            "<tr><td>CES0000000010</td><td>0</td><td>00000000</td><td>10</td><td>S</td><td>Women employees</td><td>0</td><td>0</td><td>-</td><td>B</td><td>Total nonfarm</td><td>0</td><td>T</td><td>1</td></tr>",
                            "<tr><td>CES0000000025</td><td>0</td><td>00000000</td><td>25</td><td>S</td><td>All employees</td><td>0</td><td>0</td><td>-</td><td>B</td><td>Total nonfarm</td><td>0</td><td>T</td><td>1</td></tr>",
                            "<tr><td>CES0000000026</td><td>0</td><td>00000000</td><td>26</td><td>S</td><td>All employees</td><td>0</td><td>0</td><td>-</td><td>B</td><td>Total nonfarm</td><td>0</td><td>T</td><td>1</td></tr>",
                            "<tr><td>CES0500000001</td><td>5</td><td>05000000</td><td>1</td><td>S</td><td>All employees</td><td>1</td><td>5000000</td><td>-</td><td>A</td><td>Total private</td><td>1</td><td>T</td><td>2</td></tr>",
                            "</table>"
                        ]
                    }
                }
            ],
            "execution_count": 5
        },
        {
            "cell_type": "markdown",
            "source": [
                "## <span style=\"font-size: 12pt; font-family: Montserrat, sans-serif; color: rgb(53, 74, 95); background-color: rgb(255, 255, 255); font-weight: 700; font-variant-numeric: normal; font-variant-east-asian: normal; vertical-align: baseline; white-space: pre-wrap;\">Aggregate Your Friends and Code some SQL</span>\n",
                "\n",
                "<span style=\"font-size: 10pt; font-family: Arvo, serif; color: rgb(102, 102, 102); background-color: rgb(255, 255, 255); font-variant-numeric: normal; font-variant-east-asian: normal; vertical-align: baseline; white-space: pre-wrap;\">Put together the following:</span>\n",
                "\n",
                "1. <span style=\"background-color: rgb(255, 255, 255); font-size: 10pt; white-space: pre-wrap; color: rgb(102, 102, 102); font-family: Arvo, serif;\">How many employees were reported in 2016 in all industries? Round to the nearest whole number.&nbsp; No chopping people into little bits, please.</span>"
            ],
            "metadata": {
                "azdata_cell_guid": "f4290cc1-f824-4586-8850-59d926bf4460"
            },
            "attachments": {}
        },
        {
            "cell_type": "code",
            "source": [
                "-- Before I started, I noticed one of the original files ('ce.data.0.AllCESSeries.csv') creates duplicate information.\n",
                "-- Below I compared the total employee count by only including the file and excluding the file from the count. \n",
                "-- The total for both is the same, which confirms that it is duplicate data.\n",
                "\n",
                "USE LaborStatisticsDB;\n",
                "SELECT ROUND(SUM(value),0) AS 'Total Employee Count (only inculding file)'\n",
                "FROM annual_2016\n",
                "WHERE series_id IN (SELECT series_id FROM series WHERE series_title = 'all employees')\n",
                "AND original_file = 'ce.data.0.AllCESSeries.csv';\n",
                "\n",
                "SELECT ROUND(SUM(value),0) AS 'Total Employee Count (excluding file)'\n",
                "FROM annual_2016\n",
                "WHERE series_id IN (SELECT series_id FROM series WHERE series_title = 'all employees')\n",
                "AND original_file != 'ce.data.0.AllCESSeries.csv';\n",
                "\n",
                "-- So there were 1,170,306 employees reported in 2016 for all industries."
            ],
            "metadata": {
                "azdata_cell_guid": "06e48b68-d2c2-4fae-9586-185e47c3d960"
            },
            "outputs": [
                {
                    "output_type": "display_data",
                    "data": {
                        "text/html": "(1 row affected)"
                    },
                    "metadata": {}
                },
                {
                    "output_type": "display_data",
                    "data": {
                        "text/html": "(1 row affected)"
                    },
                    "metadata": {}
                },
                {
                    "output_type": "display_data",
                    "data": {
                        "text/html": "Total execution time: 00:00:00.286"
                    },
                    "metadata": {}
                },
                {
                    "output_type": "execute_result",
                    "metadata": {},
                    "execution_count": 6,
                    "data": {
                        "application/vnd.dataresource+json": {
                            "schema": {
                                "fields": [
                                    {
                                        "name": "Total Employee Count (only inculding file)"
                                    }
                                ]
                            },
                            "data": [
                                {
                                    "0": "1170306"
                                }
                            ]
                        },
                        "text/html": [
                            "<table>",
                            "<tr><th>Total Employee Count (only inculding file)</th></tr>",
                            "<tr><td>1170306</td></tr>",
                            "</table>"
                        ]
                    }
                },
                {
                    "output_type": "execute_result",
                    "metadata": {},
                    "execution_count": 6,
                    "data": {
                        "application/vnd.dataresource+json": {
                            "schema": {
                                "fields": [
                                    {
                                        "name": "Total Employee Count (excluding file)"
                                    }
                                ]
                            },
                            "data": [
                                {
                                    "0": "1170306"
                                }
                            ]
                        },
                        "text/html": [
                            "<table>",
                            "<tr><th>Total Employee Count (excluding file)</th></tr>",
                            "<tr><td>1170306</td></tr>",
                            "</table>"
                        ]
                    }
                }
            ],
            "execution_count": 6
        },
        {
            "cell_type": "markdown",
            "source": [
                "2. <span style=\"background-color: rgb(255, 255, 255); font-size: 10pt; white-space: pre-wrap; color: rgb(102, 102, 102); font-family: Arvo, serif;\">How many women employees were reported in 2016 in all industries? Round to the nearest whole number.&nbsp;</span>"
            ],
            "metadata": {
                "azdata_cell_guid": "6358fab4-b933-4646-bef1-4be66dcd4317"
            },
            "attachments": {}
        },
        {
            "cell_type": "code",
            "source": [
                "SELECT ROUND(SUM([value]),0) AS 'Total Women Employee Count'\n",
                "FROM LaborStatisticsDB.dbo.annual_2016\n",
                "WHERE series_id IN (SELECT series_id FROM LaborStatisticsDB.dbo.series WHERE series_title = 'women employees')\n",
                "AND original_file = 'ce.data.0.AllCESSeries.csv';\n",
                "\n",
                "-- 562,745 women employees were reported in 2016 in all industries\n",
                "-- Indicated the file, or else the duplicated will affect the total sum"
            ],
            "metadata": {
                "azdata_cell_guid": "7bb0bfb7-b9e3-4672-b354-7ca705bb0c3b",
                "tags": []
            },
            "outputs": [
                {
                    "output_type": "display_data",
                    "data": {
                        "text/html": "(1 row affected)"
                    },
                    "metadata": {}
                },
                {
                    "output_type": "display_data",
                    "data": {
                        "text/html": "Total execution time: 00:00:00.131"
                    },
                    "metadata": {}
                },
                {
                    "output_type": "execute_result",
                    "metadata": {},
                    "execution_count": 7,
                    "data": {
                        "application/vnd.dataresource+json": {
                            "schema": {
                                "fields": [
                                    {
                                        "name": "Total Women Employee Count"
                                    }
                                ]
                            },
                            "data": [
                                {
                                    "0": "562745"
                                }
                            ]
                        },
                        "text/html": [
                            "<table>",
                            "<tr><th>Total Women Employee Count</th></tr>",
                            "<tr><td>562745</td></tr>",
                            "</table>"
                        ]
                    }
                }
            ],
            "execution_count": 7
        },
        {
            "cell_type": "markdown",
            "source": [
                "3. <span style=\"background-color: rgb(255, 255, 255); font-size: 10pt; white-space: pre-wrap; color: rgb(102, 102, 102); font-family: Arvo, serif;\">How many production/nonsupervisory employees were reported in 2016? Round to the nearest whole number.&nbsp;</span>"
            ],
            "metadata": {
                "azdata_cell_guid": "246ea683-2075-4337-878d-fbfdd49b2dd7"
            },
            "attachments": {}
        },
        {
            "cell_type": "code",
            "source": [
                "SELECT ROUND(SUM([value]),0) AS 'Total Production/Nonsupervisory Employee Count'\n",
                "FROM LaborStatisticsDB.dbo.annual_2016\n",
                "WHERE series_id IN (SELECT series_id FROM LaborStatisticsDB.dbo.series WHERE series_title = 'production and nonsupervisory employees')\n",
                "AND original_file = 'ce.data.0.AllCESSeries.csv';\n",
                "\n",
                "-- 631,825 production/nonsupervisory employees were reported in 2016"
            ],
            "metadata": {
                "azdata_cell_guid": "110f2591-069b-4bbe-87c7-2bcf76c3d36f"
            },
            "outputs": [
                {
                    "output_type": "display_data",
                    "data": {
                        "text/html": "(1 row affected)"
                    },
                    "metadata": {}
                },
                {
                    "output_type": "display_data",
                    "data": {
                        "text/html": "Total execution time: 00:00:00.161"
                    },
                    "metadata": {}
                },
                {
                    "output_type": "execute_result",
                    "metadata": {},
                    "execution_count": 8,
                    "data": {
                        "application/vnd.dataresource+json": {
                            "schema": {
                                "fields": [
                                    {
                                        "name": "Total Production/Nonsupervisory Employee Count"
                                    }
                                ]
                            },
                            "data": [
                                {
                                    "0": "631825"
                                }
                            ]
                        },
                        "text/html": [
                            "<table>",
                            "<tr><th>Total Production/Nonsupervisory Employee Count</th></tr>",
                            "<tr><td>631825</td></tr>",
                            "</table>"
                        ]
                    }
                }
            ],
            "execution_count": 8
        },
        {
            "cell_type": "markdown",
            "source": [
                "4. <span style=\"background-color: rgb(255, 255, 255); font-size: 10pt; white-space: pre-wrap; color: rgb(102, 102, 102); font-family: Arvo, serif;\">In January 2017, what is the average weekly hours worked by production and nonsupervisory employees across all industries?</span>"
            ],
            "metadata": {
                "azdata_cell_guid": "9caa7f57-e39d-4b7a-b705-25f8fe29d60b"
            },
            "attachments": {}
        },
        {
            "cell_type": "code",
            "source": [
                "SELECT ROUND(AVG([value]),2) AS 'Average Weekly Hours - Production/Nonsupervisory Employees'\n",
                "FROM LaborStatisticsDB.dbo.january_2017\n",
                "WHERE series_id IN (\n",
                "    SELECT series_id FROM series \n",
                "    WHERE series_title = 'Average weekly hours of production and nonsupervisory employees');\n",
                "\n",
                "-- 36 hours was the approximate average weekly hours worked by production and nonsupervisory employees in January 2017.\n",
                "-- Didn't need to specify the duplicate in this case because the average will be the same"
            ],
            "metadata": {
                "azdata_cell_guid": "9f07fa8a-4217-439a-a9cd-831240d4bc9e",
                "tags": []
            },
            "outputs": [
                {
                    "output_type": "display_data",
                    "data": {
                        "text/html": "(1 row affected)"
                    },
                    "metadata": {}
                },
                {
                    "output_type": "display_data",
                    "data": {
                        "text/html": "Total execution time: 00:00:00.147"
                    },
                    "metadata": {}
                },
                {
                    "output_type": "execute_result",
                    "metadata": {},
                    "execution_count": 9,
                    "data": {
                        "application/vnd.dataresource+json": {
                            "schema": {
                                "fields": [
                                    {
                                        "name": "Average Weekly Hours - Production/Nonsupervisory Employees"
                                    }
                                ]
                            },
                            "data": [
                                {
                                    "0": "36.06"
                                }
                            ]
                        },
                        "text/html": [
                            "<table>",
                            "<tr><th>Average Weekly Hours - Production/Nonsupervisory Employees</th></tr>",
                            "<tr><td>36.06</td></tr>",
                            "</table>"
                        ]
                    }
                }
            ],
            "execution_count": 9
        },
        {
            "cell_type": "markdown",
            "source": [
                "5. <span style=\"background-color: rgb(255, 255, 255); font-size: 10pt; white-space: pre-wrap; color: rgb(102, 102, 102); font-family: Arvo, serif;\">What is the total weekly payroll for production and nonsupervisory employees across all industries in January 2017? Round to the nearest penny, please.</span>"
            ],
            "metadata": {
                "azdata_cell_guid": "9c48ff2e-a6eb-4f02-8df2-988e219fbc00"
            },
            "attachments": {}
        },
        {
            "cell_type": "code",
            "source": [
                "SELECT ROUND(SUM([value]),2) AS 'Total Weekly Payroll - Production/Nonsupervisory Employees'\n",
                "FROM LaborStatisticsDB.dbo.january_2017\n",
                "WHERE series_id IN (\n",
                "    SELECT series_id FROM series \n",
                "    WHERE series_title = 'Aggregate weekly payrolls of production and nonsupervisory employees')\n",
                "AND original_file = 'ce.data.0.AllCESSeries.csv';\n",
                "\n",
                "-- 919376610 total weekly payroll for the production and nonsupervisory employees."
            ],
            "metadata": {
                "azdata_cell_guid": "c565641b-f1fa-4dbb-9320-24adfda97ca5"
            },
            "outputs": [
                {
                    "output_type": "display_data",
                    "data": {
                        "text/html": "(1 row affected)"
                    },
                    "metadata": {}
                },
                {
                    "output_type": "display_data",
                    "data": {
                        "text/html": "Total execution time: 00:00:00.157"
                    },
                    "metadata": {}
                },
                {
                    "output_type": "execute_result",
                    "metadata": {},
                    "execution_count": 10,
                    "data": {
                        "application/vnd.dataresource+json": {
                            "schema": {
                                "fields": [
                                    {
                                        "name": "Total Weekly Payroll - Production/Nonsupervisory Employees"
                                    }
                                ]
                            },
                            "data": [
                                {
                                    "0": "919376610"
                                }
                            ]
                        },
                        "text/html": [
                            "<table>",
                            "<tr><th>Total Weekly Payroll - Production/Nonsupervisory Employees</th></tr>",
                            "<tr><td>919376610</td></tr>",
                            "</table>"
                        ]
                    }
                }
            ],
            "execution_count": 10
        },
        {
            "cell_type": "markdown",
            "source": [
                "6. <span style=\"background-color: rgb(255, 255, 255); font-size: 10pt; white-space: pre-wrap; color: rgb(102, 102, 102); font-family: Arvo, serif;\">In January 2017, which industry was the average weekly hours worked by production and nonsupervisory employees the highest? Which industry was the lowest?</span>"
            ],
            "metadata": {
                "azdata_cell_guid": "862fd406-4fff-49bb-9d2b-232275a06405"
            },
            "attachments": {}
        },
        {
            "cell_type": "code",
            "source": [
                "USE LaborStatisticsDB;\n",
                "SELECT TOP(1) industry_name, (ROUND(AVG([value]),2)) AS avg_weekly_hrs\n",
                "FROM january_2017\n",
                "JOIN series ON series.series_id=january_2017.series_id\n",
                "JOIN industry ON industry.industry_code=series.industry_code\n",
                "WHERE series_title = 'Average weekly hours of production and nonsupervisory employees'\n",
                "GROUP BY industry_name\n",
                "ORDER BY avg_weekly_hrs DESC;\n",
                "\n",
                "SELECT TOP(1)industry_name, (ROUND(AVG([value]),2)) AS avg_weekly_hrs\n",
                "FROM january_2017\n",
                "JOIN series ON series.series_id=january_2017.series_id\n",
                "JOIN industry ON industry.industry_code=series.industry_code\n",
                "WHERE series_title = 'Average weekly hours of production and nonsupervisory employees'\n",
                "GROUP BY industry_name\n",
                "ORDER BY avg_weekly_hrs ASC;\n",
                "\n",
                "-- Highest: Motor Vehicle Power Train Components\n",
                "-- Lowest: Fitness and Recreational Sports Centers"
            ],
            "metadata": {
                "azdata_cell_guid": "01e11050-5f2f-4d22-92e0-2b3024b80a5f",
                "tags": []
            },
            "outputs": [
                {
                    "output_type": "display_data",
                    "data": {
                        "text/html": "(1 row affected)"
                    },
                    "metadata": {}
                },
                {
                    "output_type": "display_data",
                    "data": {
                        "text/html": "(1 row affected)"
                    },
                    "metadata": {}
                },
                {
                    "output_type": "display_data",
                    "data": {
                        "text/html": "Total execution time: 00:00:00.219"
                    },
                    "metadata": {}
                },
                {
                    "output_type": "execute_result",
                    "metadata": {},
                    "execution_count": 11,
                    "data": {
                        "application/vnd.dataresource+json": {
                            "schema": {
                                "fields": [
                                    {
                                        "name": "industry_name"
                                    },
                                    {
                                        "name": "avg_weekly_hrs"
                                    }
                                ]
                            },
                            "data": [
                                {
                                    "0": "Motor vehicle power train components",
                                    "1": "49.6"
                                }
                            ]
                        },
                        "text/html": [
                            "<table>",
                            "<tr><th>industry_name</th><th>avg_weekly_hrs</th></tr>",
                            "<tr><td>Motor vehicle power train components</td><td>49.6</td></tr>",
                            "</table>"
                        ]
                    }
                },
                {
                    "output_type": "execute_result",
                    "metadata": {},
                    "execution_count": 11,
                    "data": {
                        "application/vnd.dataresource+json": {
                            "schema": {
                                "fields": [
                                    {
                                        "name": "industry_name"
                                    },
                                    {
                                        "name": "avg_weekly_hrs"
                                    }
                                ]
                            },
                            "data": [
                                {
                                    "0": "Fitness and recreational sports centers",
                                    "1": "16.85"
                                }
                            ]
                        },
                        "text/html": [
                            "<table>",
                            "<tr><th>industry_name</th><th>avg_weekly_hrs</th></tr>",
                            "<tr><td>Fitness and recreational sports centers</td><td>16.85</td></tr>",
                            "</table>"
                        ]
                    }
                }
            ],
            "execution_count": 11
        },
        {
            "cell_type": "markdown",
            "source": [
                "7. <span style=\"background-color: rgb(255, 255, 255); font-size: 10pt; white-space: pre-wrap; color: rgb(102, 102, 102); font-family: Arvo, serif;\">In January 2017, which industry was the total weekly payroll for production and nonsupervisory employees the highest? Which industry was the lowest?</span>"
            ],
            "metadata": {
                "azdata_cell_guid": "a53f4113-60c6-46d1-b9a3-34610c61d4f9"
            },
            "attachments": {}
        },
        {
            "cell_type": "code",
            "source": [
                "USE LaborStatisticsDB;\n",
                "SELECT TOP(1) industry_name, (ROUND(SUM([value]),2)) AS total_weekly_payroll\n",
                "FROM january_2017\n",
                "JOIN series ON series.series_id=january_2017.series_id\n",
                "JOIN industry ON industry.industry_code=series.industry_code\n",
                "WHERE series_title = 'Aggregate weekly payrolls of production and nonsupervisory employees'\n",
                "    AND original_file = 'ce.data.0.AllCESSeries.csv' -- because we're taking the sum, duplicates will affect our total\n",
                "GROUP BY industry_name\n",
                "ORDER BY total_weekly_payroll DESC; -- Descending to see the highest on top\n",
                "\n",
                "SELECT TOP(1)industry_name, (ROUND(SUM([value]),2)) AS total_weekly_payroll\n",
                "FROM january_2017\n",
                "JOIN series ON series.series_id=january_2017.series_id\n",
                "JOIN industry ON industry.industry_code=series.industry_code\n",
                "WHERE series_title = 'Aggregate weekly payrolls of production and nonsupervisory employees'\n",
                "    AND original_file = 'ce.data.0.AllCESSeries.csv' -- removing duplicate data\n",
                "GROUP BY industry_name\n",
                "ORDER BY total_weekly_payroll ASC; -- Ascending to see the lowest on top\n",
                "\n",
                "-- Highest: Total Private\n",
                "-- Lowest: Coin-operated Laundries and Drycleaners"
            ],
            "metadata": {
                "azdata_cell_guid": "583695e6-7438-4e03-8970-1fe0c677a793",
                "tags": []
            },
            "outputs": [
                {
                    "output_type": "display_data",
                    "data": {
                        "text/html": "(1 row affected)"
                    },
                    "metadata": {}
                },
                {
                    "output_type": "display_data",
                    "data": {
                        "text/html": "(1 row affected)"
                    },
                    "metadata": {}
                },
                {
                    "output_type": "display_data",
                    "data": {
                        "text/html": "Total execution time: 00:00:00.261"
                    },
                    "metadata": {}
                },
                {
                    "output_type": "execute_result",
                    "metadata": {},
                    "execution_count": 12,
                    "data": {
                        "application/vnd.dataresource+json": {
                            "schema": {
                                "fields": [
                                    {
                                        "name": "industry_name"
                                    },
                                    {
                                        "name": "total_weekly_payroll"
                                    }
                                ]
                            },
                            "data": [
                                {
                                    "0": "Total private",
                                    "1": "147972473"
                                }
                            ]
                        },
                        "text/html": [
                            "<table>",
                            "<tr><th>industry_name</th><th>total_weekly_payroll</th></tr>",
                            "<tr><td>Total private</td><td>147972473</td></tr>",
                            "</table>"
                        ]
                    }
                },
                {
                    "output_type": "execute_result",
                    "metadata": {},
                    "execution_count": 12,
                    "data": {
                        "application/vnd.dataresource+json": {
                            "schema": {
                                "fields": [
                                    {
                                        "name": "industry_name"
                                    },
                                    {
                                        "name": "total_weekly_payroll"
                                    }
                                ]
                            },
                            "data": [
                                {
                                    "0": "Coin-operated laundries and drycleaners",
                                    "1": "20224"
                                }
                            ]
                        },
                        "text/html": [
                            "<table>",
                            "<tr><th>industry_name</th><th>total_weekly_payroll</th></tr>",
                            "<tr><td>Coin-operated laundries and drycleaners</td><td>20224</td></tr>",
                            "</table>"
                        ]
                    }
                }
            ],
            "execution_count": 12
        },
        {
            "cell_type": "markdown",
            "source": [
                "## <span style=\"font-size: 12pt; font-family: Montserrat, sans-serif; color: rgb(53, 74, 95); background-color: rgb(255, 255, 255); font-weight: 700; font-variant-numeric: normal; font-variant-east-asian: normal; vertical-align: baseline; white-space: pre-wrap;\">Subqueries, Unions, Derived Tables, Oh My!</span>\n",
                "\n",
                "1. <span style=\"background-color: rgb(255, 255, 255); font-size: 10pt; white-space: pre-wrap; color: rgb(102, 102, 102); font-family: Arvo, serif;\">Write a query that returns the series_id, industry_code, industry_name, and value from the january_2017 table but only if that value is greater than the average value for annual_2016 of data_type_code 82.</span>"
            ],
            "metadata": {
                "azdata_cell_guid": "e98ec195-5399-4718-83ef-54fb954662a5"
            },
            "attachments": {}
        },
        {
            "cell_type": "code",
            "source": [
                "USE LaborStatisticsDB;\n",
                "SELECT TOP(5) jan.series_id, series.industry_code, industry.industry_name, jan.value\n",
                "FROM january_2017 AS jan\n",
                "JOIN series ON series.series_id = jan.series_id\n",
                "JOIN industry ON industry.industry_code = series.industry_code\n",
                "WHERE jan.value > (\n",
                "    SELECT AVG([value]) FROM annual_2016 \n",
                "    JOIN series ON series.series_id=annual_2016.series_id \n",
                "    WHERE data_type_code = 82);\n",
                "\n",
                "-- data_type_code (82) = data_type_text (Aggregate Weekly Payrolls of Production and Nonsupervisory Employees)"
            ],
            "metadata": {
                "azdata_cell_guid": "7c85f70b-528f-4cbd-bd8e-a6efab1c18df",
                "tags": []
            },
            "outputs": [
                {
                    "output_type": "display_data",
                    "data": {
                        "text/html": "(5 rows affected)"
                    },
                    "metadata": {}
                },
                {
                    "output_type": "display_data",
                    "data": {
                        "text/html": "Total execution time: 00:00:00.358"
                    },
                    "metadata": {}
                },
                {
                    "output_type": "execute_result",
                    "metadata": {},
                    "execution_count": 13,
                    "data": {
                        "application/vnd.dataresource+json": {
                            "schema": {
                                "fields": [
                                    {
                                        "name": "series_id"
                                    },
                                    {
                                        "name": "industry_code"
                                    },
                                    {
                                        "name": "industry_name"
                                    },
                                    {
                                        "name": "value"
                                    }
                                ]
                            },
                            "data": [
                                {
                                    "0": "CES5500000082",
                                    "1": "55000000",
                                    "2": "Financial activities",
                                    "3": "6328968"
                                },
                                {
                                    "0": "CES5552200082",
                                    "1": "55522000",
                                    "2": "Credit intermediation and related activities",
                                    "3": "1717912"
                                },
                                {
                                    "0": "CES5552210082",
                                    "1": "55522100",
                                    "2": "Depository credit intermediation",
                                    "3": "971796"
                                },
                                {
                                    "0": "CES5552300082",
                                    "1": "55523000",
                                    "2": "NULL",
                                    "3": "1044224"
                                },
                                {
                                    "0": "CES5552400082",
                                    "1": "55524000",
                                    "2": "Insurance carriers and related activities",
                                    "3": "2347328"
                                }
                            ]
                        },
                        "text/html": [
                            "<table>",
                            "<tr><th>series_id</th><th>industry_code</th><th>industry_name</th><th>value</th></tr>",
                            "<tr><td>CES5500000082</td><td>55000000</td><td>Financial activities</td><td>6328968</td></tr>",
                            "<tr><td>CES5552200082</td><td>55522000</td><td>Credit intermediation and related activities</td><td>1717912</td></tr>",
                            "<tr><td>CES5552210082</td><td>55522100</td><td>Depository credit intermediation</td><td>971796</td></tr>",
                            "<tr><td>CES5552300082</td><td>55523000</td><td>NULL</td><td>1044224</td></tr>",
                            "<tr><td>CES5552400082</td><td>55524000</td><td>Insurance carriers and related activities</td><td>2347328</td></tr>",
                            "</table>"
                        ]
                    }
                }
            ],
            "execution_count": 13
        },
        {
            "cell_type": "markdown",
            "source": [
                "2. <span style=\"background-color: rgb(255, 255, 255); font-size: 10pt; white-space: pre-wrap; color: rgb(102, 102, 102); font-family: Arvo, serif;\">Create a Union table comparing average weekly earnings&nbsp; of production and nonsupervisory employees between annual_16 and january_17 using the data type 30.&nbsp; Round to the nearest penny.&nbsp; You should have a column for the average earnings and a column for the year, and the period.</span>"
            ],
            "metadata": {
                "azdata_cell_guid": "1bb0ed09-4b02-4132-910e-5903697628af"
            },
            "attachments": {}
        },
        {
            "cell_type": "code",
            "source": [
                "SELECT [year], [period], ROUND(AVG([value]),2) as avg_weekly_earning\n",
                "FROM LaborStatisticsDB.dbo.january_2017\n",
                "JOIN series ON series.series_id=january_2017.series_id\n",
                "WHERE data_type_code = 30\n",
                "GROUP BY [year], [period]\n",
                "UNION\n",
                "SELECT [year], [period], ROUND(AVG([value]),2) as avg_weekly_earning\n",
                "FROM LaborStatisticsDB.dbo.annual_2016\n",
                "JOIN series ON series.series_id=annual_2016.series_id\n",
                "WHERE data_type_code = 30\n",
                "GROUP BY [year], [period]\n",
                "\n",
                "-- data_type_code (30) = data_type_text (Average Weekly Earnings of Production and Nonsupervisory Employees)\n",
                "-- period (M13) = month (Annual Average)\n",
                "-- period (M01) = month (January)"
            ],
            "metadata": {
                "azdata_cell_guid": "0841b6d6-9af2-41ba-8e28-dc40d08bd061",
                "tags": []
            },
            "outputs": [
                {
                    "output_type": "display_data",
                    "data": {
                        "text/html": "(2 rows affected)"
                    },
                    "metadata": {}
                },
                {
                    "output_type": "display_data",
                    "data": {
                        "text/html": "Total execution time: 00:00:00.189"
                    },
                    "metadata": {}
                },
                {
                    "output_type": "execute_result",
                    "metadata": {},
                    "execution_count": 14,
                    "data": {
                        "application/vnd.dataresource+json": {
                            "schema": {
                                "fields": [
                                    {
                                        "name": "year"
                                    },
                                    {
                                        "name": "period"
                                    },
                                    {
                                        "name": "avg_weekly_earning"
                                    }
                                ]
                            },
                            "data": [
                                {
                                    "0": "2016",
                                    "1": "M13",
                                    "2": "797.2"
                                },
                                {
                                    "0": "2017",
                                    "1": "M01",
                                    "2": "808.53"
                                }
                            ]
                        },
                        "text/html": [
                            "<table>",
                            "<tr><th>year</th><th>period</th><th>avg_weekly_earning</th></tr>",
                            "<tr><td>2016</td><td>M13</td><td>797.2</td></tr>",
                            "<tr><td>2017</td><td>M01</td><td>808.53</td></tr>",
                            "</table>"
                        ]
                    }
                }
            ],
            "execution_count": 14
        },
        {
            "cell_type": "markdown",
            "source": [
                "## <span style=\"font-size:12pt;font-family:Montserrat, sans-serif;color:rgb(53, 74, 95);background-color:rgb(255, 255, 255);font-weight:700;vertical-align:baseline;white-space:pre-wrap;\">Summarize Your Results</span>\n",
                "\n",
                "<span style=\"font-size:10pt;font-family:Arvo, serif;color:rgb(102, 102, 102);background-color:rgb(255, 255, 255);vertical-align:baseline;white-space:pre-wrap;\">With what you know now about the </span> <span style=\"background-color:rgb(255, 255, 255);color:rgb(102, 102, 102);font-family:&quot;Times New Roman&quot;;font-size:13.3333px;white-space:pre-wrap;\">Bureau of Labor Statistics (BLS) Current Employment Survey (CES) results and working with the</span> <span style=\"color:rgb(102, 102, 102);white-space:pre-wrap;font-family:&quot;Times New Roman&quot;;font-size:13.3333px;\">Labor Statistics Database</span><span style=\"background-color:rgb(255, 255, 255);color:rgb(102, 102, 102);font-family:Arvo, serif;font-size:10pt;white-space:pre-wrap;\">, answer the following questions. Note that while this is subjective, you should include relevant data to back up your opinion.</span>\n",
                "\n",
                "1. <span style=\"background-color:rgb(255, 255, 255);font-size:10pt;white-space:pre-wrap;color:rgb(102, 102, 102);font-family:Arvo, serif;\"><b>During which time period did production and nonsupervisory employees fare better?</b></span>\n",
                "\n",
                "> The production and nonsupervisory employees were fared better in January 2017 with an average weekly earning of 808.53 compared to the annual average in 2016 where the average weekly earning was 797.20."
            ],
            "metadata": {
                "azdata_cell_guid": "780f65a6-b9e7-4f24-9132-293c47f559e8"
            },
            "attachments": {}
        },
        {
            "cell_type": "markdown",
            "source": [
                "2. <span style=\"background-color: rgb(255, 255, 255); font-size: 10pt; white-space: pre-wrap; color: rgb(102, 102, 102); font-family: Arvo, serif;\"><b>In which industries did production and nonsupervisory employees fare better?</b></span>\n",
                "\n",
                "> As of January 2017, the total weekly payroll was highest in the 'Total Private' industry for production and nonsupervisory employees.<span style=\"font-size: 13.3333px; white-space: pre-wrap;\"><br></span>"
            ],
            "metadata": {
                "azdata_cell_guid": "f606e5e5-f6f1-4070-bbfa-e31617b43e56"
            },
            "attachments": {}
        },
        {
            "cell_type": "markdown",
            "source": [
                "3. <span style=\"font-size: 10pt; font-family: Arvo, serif; color: rgb(102, 102, 102); background-color: rgb(255, 255, 255); font-variant-numeric: normal; font-variant-east-asian: normal; vertical-align: baseline; white-space: pre-wrap;\"><b>Now that you have explored the datasets, is there any data or information that you wish you had in this analysis?</b></span>\n",
                "\n",
                "> It would be great to have more data on both genders and the amount each works compared to the other. To check whether one gender dominated in one industry compared to the other. I wished the Annual\\_2016 table had separate data for each month - instead of just a yearly average.\n",
                "> \n",
                "> In addition, I wish I knew more about the data I was working with so I could work more effeciently. I tried learning more through the Kaggle description but I think I would have worked more effeciently if I was introduced to it by someone who was an expert at the data."
            ],
            "metadata": {
                "azdata_cell_guid": "101e4449-601a-46c6-b217-23f3339cfa76"
            },
            "attachments": {}
        }
    ]
}